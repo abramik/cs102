{
 "cells": [
  {
   "cell_type": "markdown",
   "metadata": {},
   "source": [
    "# Кластеризация с помощью метода k-means"
   ]
  },
  {
   "cell_type": "code",
   "execution_count": 10,
   "metadata": {},
   "outputs": [],
   "source": [
    "import pandas as pd\n",
    "import numpy as np\n",
    "import matplotlib.pyplot as plt\n",
    "import seaborn as sns\n",
    "plt.style.use(\"seaborn\")\n",
    "from sklearn import decomposition\n",
    "from sklearn.datasets import load_iris\n",
    "from sklearn.model_selection import train_test_split\n",
    "from math import sqrt\n",
    "from pandas import DataFrame"
   ]
  },
  {
   "cell_type": "code",
   "execution_count": 11,
   "metadata": {},
   "outputs": [],
   "source": [
    "class kMeans():\n",
    "    def __init__(self, k=2, max_iter=500):\n",
    "        self.k = k\n",
    "        self.max_iter = max_iter\n",
    "        self.kmeans_centroids = []\n",
    " \n",
    "    def fit(self, data):\n",
    "        n_samples, n_features = np.shape(data)\n",
    "        centroids = np.zeros((self.k, n_features))\n",
    "        for i in range(self.k):\n",
    "            centroid = data[np.random.choice(range(n_samples))]\n",
    "            centroids[i] = centroid\n",
    "        for _ in range(self.max_iter):\n",
    "            n_samples = np.shape(data)[0]\n",
    "            clusters = [[] for _ in range(self.k)]\n",
    "            for sample_i, sample in enumerate(data):\n",
    "                closest_i = None\n",
    "                closest_distance = float(\"inf\")\n",
    "                for i, centroid in enumerate(centroids):\n",
    "                    distance = np.linalg.norm(sample - centroid)\n",
    "                    if distance < closest_distance:\n",
    "                        closest_i = i\n",
    "                        closest_distance = distance\n",
    "                clusters[closest_i].append(sample_i)\n",
    "            self.clusters = clusters\n",
    "            prev_centroids = centroids\n",
    "            n_features = np.shape(data)[1]\n",
    "            centroids = np.zeros((self.k, n_features))\n",
    "            for i, cluster in enumerate(clusters):\n",
    "                centroid = np.mean(data[cluster], axis=0)\n",
    "                centroids[i] = centroid    \n",
    "            diff = centroids - prev_centroids\n",
    "            if not diff.any():\n",
    "                break\n",
    "        self.kmeans_centroids = centroids\n",
    "        return centroids\n",
    "\n",
    "    def predict(self, data):  \n",
    "        clusters = self.clusters\n",
    "        predicted_labels = np.zeros(np.shape(data)[0])\n",
    "        for cluster_i, cluster in enumerate(clusters):\n",
    "            for sample_i in cluster:\n",
    "                predicted_labels[sample_i] = cluster_i            \n",
    "        return predicted_labels"
   ]
  },
  {
   "cell_type": "code",
   "execution_count": 12,
   "metadata": {},
   "outputs": [
    {
     "data": {
      "text/plain": [
       "['sepal length (cm)',\n",
       " 'sepal width (cm)',\n",
       " 'petal length (cm)',\n",
       " 'petal width (cm)']"
      ]
     },
     "execution_count": 12,
     "metadata": {},
     "output_type": "execute_result"
    }
   ],
   "source": [
    "iris = load_iris()\n",
    "iris.feature_names"
   ]
  },
  {
   "cell_type": "code",
   "execution_count": 21,
   "metadata": {},
   "outputs": [
    {
     "data": {
      "text/plain": [
       "(150, 4)"
      ]
     },
     "execution_count": 21,
     "metadata": {},
     "output_type": "execute_result"
    }
   ],
   "source": [
    "iris.data.shape"
   ]
  },
  {
   "cell_type": "code",
   "execution_count": 22,
   "metadata": {},
   "outputs": [
    {
     "data": {
      "text/plain": [
       "(150,)"
      ]
     },
     "execution_count": 22,
     "metadata": {},
     "output_type": "execute_result"
    }
   ],
   "source": [
    "iris.target.shape"
   ]
  },
  {
   "cell_type": "code",
   "execution_count": 15,
   "metadata": {},
   "outputs": [],
   "source": [
    "train_data = np.array(iris.data)\n",
    "train_labels = np.array(iris.target)\n",
    "num_features = train_data.data.shape[1]\n",
    "\n",
    "pca = decomposition.PCA(n_components=3)\n",
    "pca.fit(train_data)\n",
    "train_data = pca.transform(train_data)"
   ]
  },
  {
   "cell_type": "code",
   "execution_count": 16,
   "metadata": {},
   "outputs": [],
   "source": [
    "unique_labels = np.unique(train_labels)\n",
    "num_classes = len(unique_labels)\n",
    "model = kMeans(k=num_classes, max_iter=1000)\n",
    "centroids = model.fit(train_data)\n",
    "predicted_y = model.predict(train_data)"
   ]
  },
  {
   "cell_type": "code",
   "execution_count": 19,
   "metadata": {},
   "outputs": [
    {
     "data": {
      "text/plain": [
       "array([2., 2., 2., 2., 2., 2., 2., 2., 2., 2., 2., 2., 2., 2., 2., 2., 2.,\n",
       "       2., 2., 2., 2., 2., 2., 2., 2., 2., 2., 2., 2., 2., 2., 2., 2., 2.,\n",
       "       2., 2., 2., 2., 2., 2., 2., 2., 2., 2., 2., 2., 2., 2., 2., 2., 1.,\n",
       "       0., 1., 0., 0., 0., 0., 0., 0., 0., 0., 0., 0., 0., 0., 0., 0., 0.,\n",
       "       0., 0., 0., 0., 0., 0., 0., 0., 0., 1., 0., 0., 0., 0., 0., 0., 0.,\n",
       "       0., 0., 0., 0., 0., 0., 0., 0., 0., 0., 0., 0., 0., 0., 0., 1., 0.,\n",
       "       1., 1., 1., 1., 0., 1., 1., 1., 1., 1., 1., 0., 0., 1., 1., 1., 1.,\n",
       "       0., 1., 0., 1., 0., 1., 1., 0., 0., 1., 1., 1., 1., 1., 0., 1., 1.,\n",
       "       1., 1., 0., 1., 1., 1., 0., 1., 1., 1., 0., 1., 1., 0.])"
      ]
     },
     "execution_count": 19,
     "metadata": {},
     "output_type": "execute_result"
    }
   ],
   "source": [
    "predicted_y"
   ]
  },
  {
   "cell_type": "code",
   "execution_count": 23,
   "metadata": {},
   "outputs": [
    {
     "data": {
      "text/plain": [
       "Text(0.5, 1.0, 'Result of k-means clustering')"
      ]
     },
     "execution_count": 23,
     "metadata": {},
     "output_type": "execute_result"
    },
    {
     "data": {
      "image/png": "[encoded data removed]",
      "text/plain": [
       "<Figure size 576x396 with 1 Axes>"
      ]
     },
     "metadata": {},
     "output_type": "display_data"
    }
   ],
   "source": [
    "x = predicted_y.reshape(-1,1)\n",
    "df = pd.DataFrame.from_records(x)\n",
    "df.hist(color = 'navy')\n",
    "plt.ylabel('Size')\n",
    "plt.xlabel('Clusters')\n",
    "plt.title('Result of k-means clustering')"
   ]
  }
 ],
 "metadata": {
  "kernelspec": {
   "display_name": "Python 3",
   "language": "python",
   "name": "python3"
  },
  "language_info": {
   "codemirror_mode": {
    "name": "ipython",
    "version": 3
   },
   "file_extension": ".py",
   "mimetype": "text/x-python",
   "name": "python",
   "nbconvert_exporter": "python",
   "pygments_lexer": "ipython3",
   "version": "3.7.6"
  }
 },
 "nbformat": 4,
 "nbformat_minor": 4
}
